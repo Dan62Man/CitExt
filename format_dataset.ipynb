{
 "cells": [
  {
   "cell_type": "code",
   "execution_count": 1,
   "id": "6ff30ea0-f4ee-4475-b2ff-ea80eeeab92e",
   "metadata": {},
   "outputs": [],
   "source": [
    "#!python format_new_dataset.py citation_texts citation_data en_core_sci_sm --use-scispacy"
   ]
  },
  {
   "cell_type": "code",
   "execution_count": 2,
   "id": "2398b373-7b55-46d6-ac1a-f18eebd3d9fe",
   "metadata": {},
   "outputs": [],
   "source": [
    "#!git clone https://github.com/dwadden/dygiepp.git"
   ]
  },
  {
   "cell_type": "code",
   "execution_count": 3,
   "id": "dd090ee5-58a5-4d2e-b20e-24b1d94ee3de",
   "metadata": {},
   "outputs": [],
   "source": [
    "#%cd dygiepp/"
   ]
  },
  {
   "cell_type": "code",
   "execution_count": 4,
   "id": "6fb138ad-f04d-416c-b46f-f3265bdbf606",
   "metadata": {},
   "outputs": [
    {
     "name": "stderr",
     "output_type": "stream",
     "text": [
      "error loading _jsonnet (this is expected on Windows), treating C:\\Users\\macac\\miniconda3\\envs\\Cit2KG\\Lib\\site-packages\\allennlp_models\\modelcards\\coref-spanbert.json as plain json\n",
      "error loading _jsonnet (this is expected on Windows), treating C:\\Users\\macac\\miniconda3\\envs\\Cit2KG\\Lib\\site-packages\\allennlp_models\\modelcards\\evaluate_rc-lerc.json as plain json\n",
      "lerc is not a registered model.\n",
      "error loading _jsonnet (this is expected on Windows), treating C:\\Users\\macac\\miniconda3\\envs\\Cit2KG\\Lib\\site-packages\\allennlp_models\\modelcards\\generation-bart.json as plain json\n",
      "error loading _jsonnet (this is expected on Windows), treating C:\\Users\\macac\\miniconda3\\envs\\Cit2KG\\Lib\\site-packages\\allennlp_models\\modelcards\\glove-sst.json as plain json\n",
      "error loading _jsonnet (this is expected on Windows), treating C:\\Users\\macac\\miniconda3\\envs\\Cit2KG\\Lib\\site-packages\\allennlp_models\\modelcards\\lm-masked-language-model.json as plain json\n",
      "error loading _jsonnet (this is expected on Windows), treating C:\\Users\\macac\\miniconda3\\envs\\Cit2KG\\Lib\\site-packages\\allennlp_models\\modelcards\\lm-next-token-lm-gpt2.json as plain json\n",
      "error loading _jsonnet (this is expected on Windows), treating C:\\Users\\macac\\miniconda3\\envs\\Cit2KG\\Lib\\site-packages\\allennlp_models\\modelcards\\mc-roberta-commonsenseqa.json as plain json\n",
      "error loading _jsonnet (this is expected on Windows), treating C:\\Users\\macac\\miniconda3\\envs\\Cit2KG\\Lib\\site-packages\\allennlp_models\\modelcards\\mc-roberta-piqa.json as plain json\n",
      "error loading _jsonnet (this is expected on Windows), treating C:\\Users\\macac\\miniconda3\\envs\\Cit2KG\\Lib\\site-packages\\allennlp_models\\modelcards\\mc-roberta-swag.json as plain json\n",
      "error loading _jsonnet (this is expected on Windows), treating C:\\Users\\macac\\miniconda3\\envs\\Cit2KG\\Lib\\site-packages\\allennlp_models\\modelcards\\nlvr2-vilbert-head.json as plain json\n",
      "error loading _jsonnet (this is expected on Windows), treating C:\\Users\\macac\\miniconda3\\envs\\Cit2KG\\Lib\\site-packages\\allennlp_models\\modelcards\\nlvr2-vilbert.json as plain json\n",
      "error loading _jsonnet (this is expected on Windows), treating C:\\Users\\macac\\miniconda3\\envs\\Cit2KG\\Lib\\site-packages\\allennlp_models\\modelcards\\pair-classification-adversarial-binary-gender-bias-mitigated-roberta-snli.json as plain json\n",
      "error loading _jsonnet (this is expected on Windows), treating C:\\Users\\macac\\miniconda3\\envs\\Cit2KG\\Lib\\site-packages\\allennlp_models\\modelcards\\pair-classification-binary-gender-bias-mitigated-roberta-snli.json as plain json\n",
      "error loading _jsonnet (this is expected on Windows), treating C:\\Users\\macac\\miniconda3\\envs\\Cit2KG\\Lib\\site-packages\\allennlp_models\\modelcards\\pair-classification-decomposable-attention-elmo.json as plain json\n",
      "error loading _jsonnet (this is expected on Windows), treating C:\\Users\\macac\\miniconda3\\envs\\Cit2KG\\Lib\\site-packages\\allennlp_models\\modelcards\\pair-classification-esim.json as plain json\n",
      "error loading _jsonnet (this is expected on Windows), treating C:\\Users\\macac\\miniconda3\\envs\\Cit2KG\\Lib\\site-packages\\allennlp_models\\modelcards\\pair-classification-roberta-mnli.json as plain json\n",
      "error loading _jsonnet (this is expected on Windows), treating C:\\Users\\macac\\miniconda3\\envs\\Cit2KG\\Lib\\site-packages\\allennlp_models\\modelcards\\pair-classification-roberta-rte.json as plain json\n",
      "error loading _jsonnet (this is expected on Windows), treating C:\\Users\\macac\\miniconda3\\envs\\Cit2KG\\Lib\\site-packages\\allennlp_models\\modelcards\\pair-classification-roberta-snli.json as plain json\n",
      "error loading _jsonnet (this is expected on Windows), treating C:\\Users\\macac\\miniconda3\\envs\\Cit2KG\\Lib\\site-packages\\allennlp_models\\modelcards\\rc-bidaf-elmo.json as plain json\n",
      "error loading _jsonnet (this is expected on Windows), treating C:\\Users\\macac\\miniconda3\\envs\\Cit2KG\\Lib\\site-packages\\allennlp_models\\modelcards\\rc-bidaf.json as plain json\n",
      "error loading _jsonnet (this is expected on Windows), treating C:\\Users\\macac\\miniconda3\\envs\\Cit2KG\\Lib\\site-packages\\allennlp_models\\modelcards\\rc-naqanet.json as plain json\n",
      "error loading _jsonnet (this is expected on Windows), treating C:\\Users\\macac\\miniconda3\\envs\\Cit2KG\\Lib\\site-packages\\allennlp_models\\modelcards\\rc-nmn.json as plain json\n",
      "error loading _jsonnet (this is expected on Windows), treating C:\\Users\\macac\\miniconda3\\envs\\Cit2KG\\Lib\\site-packages\\allennlp_models\\modelcards\\rc-transformer-qa.json as plain json\n",
      "error loading _jsonnet (this is expected on Windows), treating C:\\Users\\macac\\miniconda3\\envs\\Cit2KG\\Lib\\site-packages\\allennlp_models\\modelcards\\roberta-sst.json as plain json\n",
      "error loading _jsonnet (this is expected on Windows), treating C:\\Users\\macac\\miniconda3\\envs\\Cit2KG\\Lib\\site-packages\\allennlp_models\\modelcards\\semparse-nlvr.json as plain json\n",
      "error loading _jsonnet (this is expected on Windows), treating C:\\Users\\macac\\miniconda3\\envs\\Cit2KG\\Lib\\site-packages\\allennlp_models\\modelcards\\semparse-text-to-sql.json as plain json\n",
      "error loading _jsonnet (this is expected on Windows), treating C:\\Users\\macac\\miniconda3\\envs\\Cit2KG\\Lib\\site-packages\\allennlp_models\\modelcards\\semparse-wikitables.json as plain json\n",
      "error loading _jsonnet (this is expected on Windows), treating C:\\Users\\macac\\miniconda3\\envs\\Cit2KG\\Lib\\site-packages\\allennlp_models\\modelcards\\structured-prediction-biaffine-parser.json as plain json\n",
      "error loading _jsonnet (this is expected on Windows), treating C:\\Users\\macac\\miniconda3\\envs\\Cit2KG\\Lib\\site-packages\\allennlp_models\\modelcards\\structured-prediction-constituency-parser.json as plain json\n",
      "error loading _jsonnet (this is expected on Windows), treating C:\\Users\\macac\\miniconda3\\envs\\Cit2KG\\Lib\\site-packages\\allennlp_models\\modelcards\\structured-prediction-srl-bert.json as plain json\n",
      "error loading _jsonnet (this is expected on Windows), treating C:\\Users\\macac\\miniconda3\\envs\\Cit2KG\\Lib\\site-packages\\allennlp_models\\modelcards\\structured-prediction-srl.json as plain json\n",
      "error loading _jsonnet (this is expected on Windows), treating C:\\Users\\macac\\miniconda3\\envs\\Cit2KG\\Lib\\site-packages\\allennlp_models\\modelcards\\tagging-elmo-crf-tagger.json as plain json\n",
      "error loading _jsonnet (this is expected on Windows), treating C:\\Users\\macac\\miniconda3\\envs\\Cit2KG\\Lib\\site-packages\\allennlp_models\\modelcards\\tagging-fine-grained-crf-tagger.json as plain json\n",
      "error loading _jsonnet (this is expected on Windows), treating C:\\Users\\macac\\miniconda3\\envs\\Cit2KG\\Lib\\site-packages\\allennlp_models\\modelcards\\tagging-fine-grained-transformer-crf-tagger.json as plain json\n",
      "error loading _jsonnet (this is expected on Windows), treating C:\\Users\\macac\\miniconda3\\envs\\Cit2KG\\Lib\\site-packages\\allennlp_models\\modelcards\\ve-vilbert.json as plain json\n",
      "error loading _jsonnet (this is expected on Windows), treating C:\\Users\\macac\\miniconda3\\envs\\Cit2KG\\Lib\\site-packages\\allennlp_models\\modelcards\\vgqa-vilbert.json as plain json\n",
      "error loading _jsonnet (this is expected on Windows), treating C:\\Users\\macac\\miniconda3\\envs\\Cit2KG\\Lib\\site-packages\\allennlp_models\\modelcards\\vqa-vilbert.json as plain json\n",
      "error loading _jsonnet (this is expected on Windows), treating C:\\Users\\macac\\AppData\\Local\\Temp\\tmpujdh0xs7\\config.json as plain json\n"
     ]
    },
    {
     "ename": "RuntimeError",
     "evalue": "Error loading state dict for Bart\n\tMissing keys: ['bart.lm_head.weight']\n\tUnexpected keys: []",
     "output_type": "error",
     "traceback": [
      "\u001b[1;31m---------------------------------------------------------------------------\u001b[0m",
      "\u001b[1;31mRuntimeError\u001b[0m                              Traceback (most recent call last)",
      "Cell \u001b[1;32mIn[4], line 3\u001b[0m\n\u001b[0;32m      1\u001b[0m \u001b[38;5;28;01mfrom\u001b[39;00m \u001b[38;5;21;01mallennlp_models\u001b[39;00m \u001b[38;5;28;01mimport\u001b[39;00m pretrained\n\u001b[1;32m----> 3\u001b[0m \u001b[43mpretrained\u001b[49m\u001b[38;5;241;43m.\u001b[39;49m\u001b[43mload_predictor\u001b[49m\u001b[43m(\u001b[49m\u001b[38;5;124;43m\"\u001b[39;49m\u001b[38;5;124;43mgeneration-bart\u001b[39;49m\u001b[38;5;124;43m\"\u001b[39;49m\u001b[43m)\u001b[49m\n",
      "File \u001b[1;32m~\\miniconda3\\envs\\Cit2KG\\lib\\site-packages\\allennlp_models\\pretrained.py:65\u001b[0m, in \u001b[0;36mload_predictor\u001b[1;34m(model_id, pretrained_models, cuda_device, overrides)\u001b[0m\n\u001b[0;32m     63\u001b[0m \u001b[38;5;28;01mif\u001b[39;00m model_card\u001b[38;5;241m.\u001b[39mmodel_usage\u001b[38;5;241m.\u001b[39marchive_file \u001b[38;5;129;01mis\u001b[39;00m \u001b[38;5;28;01mNone\u001b[39;00m:\n\u001b[0;32m     64\u001b[0m     \u001b[38;5;28;01mraise\u001b[39;00m \u001b[38;5;167;01mValueError\u001b[39;00m(\u001b[38;5;124mf\u001b[39m\u001b[38;5;124m\"\u001b[39m\u001b[38;5;124marchive_file is required in the \u001b[39m\u001b[38;5;132;01m{\u001b[39;00mmodel_card\u001b[38;5;132;01m}\u001b[39;00m\u001b[38;5;124m\"\u001b[39m)\n\u001b[1;32m---> 65\u001b[0m \u001b[38;5;28;01mreturn\u001b[39;00m \u001b[43mPredictor\u001b[49m\u001b[38;5;241;43m.\u001b[39;49m\u001b[43mfrom_path\u001b[49m\u001b[43m(\u001b[49m\n\u001b[0;32m     66\u001b[0m \u001b[43m    \u001b[49m\u001b[43mmodel_card\u001b[49m\u001b[38;5;241;43m.\u001b[39;49m\u001b[43mmodel_usage\u001b[49m\u001b[38;5;241;43m.\u001b[39;49m\u001b[43marchive_file\u001b[49m\u001b[43m,\u001b[49m\n\u001b[0;32m     67\u001b[0m \u001b[43m    \u001b[49m\u001b[43mpredictor_name\u001b[49m\u001b[38;5;241;43m=\u001b[39;49m\u001b[43mmodel_card\u001b[49m\u001b[38;5;241;43m.\u001b[39;49m\u001b[43mregistered_predictor_name\u001b[49m\u001b[43m,\u001b[49m\n\u001b[0;32m     68\u001b[0m \u001b[43m    \u001b[49m\u001b[43mcuda_device\u001b[49m\u001b[38;5;241;43m=\u001b[39;49m\u001b[43mcuda_device\u001b[49m\u001b[43m,\u001b[49m\n\u001b[0;32m     69\u001b[0m \u001b[43m    \u001b[49m\u001b[43moverrides\u001b[49m\u001b[38;5;241;43m=\u001b[39;49m\u001b[43moverrides\u001b[49m\u001b[43m,\u001b[49m\n\u001b[0;32m     70\u001b[0m \u001b[43m\u001b[49m\u001b[43m)\u001b[49m\n",
      "File \u001b[1;32m~\\miniconda3\\envs\\Cit2KG\\lib\\site-packages\\allennlp\\predictors\\predictor.py:366\u001b[0m, in \u001b[0;36mPredictor.from_path\u001b[1;34m(cls, archive_path, predictor_name, cuda_device, dataset_reader_to_load, frozen, import_plugins, overrides, **kwargs)\u001b[0m\n\u001b[0;32m    363\u001b[0m \u001b[38;5;28;01mif\u001b[39;00m import_plugins:\n\u001b[0;32m    364\u001b[0m     plugins\u001b[38;5;241m.\u001b[39mimport_plugins()\n\u001b[0;32m    365\u001b[0m \u001b[38;5;28;01mreturn\u001b[39;00m Predictor\u001b[38;5;241m.\u001b[39mfrom_archive(\n\u001b[1;32m--> 366\u001b[0m     \u001b[43mload_archive\u001b[49m\u001b[43m(\u001b[49m\u001b[43marchive_path\u001b[49m\u001b[43m,\u001b[49m\u001b[43m \u001b[49m\u001b[43mcuda_device\u001b[49m\u001b[38;5;241;43m=\u001b[39;49m\u001b[43mcuda_device\u001b[49m\u001b[43m,\u001b[49m\u001b[43m \u001b[49m\u001b[43moverrides\u001b[49m\u001b[38;5;241;43m=\u001b[39;49m\u001b[43moverrides\u001b[49m\u001b[43m)\u001b[49m,\n\u001b[0;32m    367\u001b[0m     predictor_name,\n\u001b[0;32m    368\u001b[0m     dataset_reader_to_load\u001b[38;5;241m=\u001b[39mdataset_reader_to_load,\n\u001b[0;32m    369\u001b[0m     frozen\u001b[38;5;241m=\u001b[39mfrozen,\n\u001b[0;32m    370\u001b[0m     extra_args\u001b[38;5;241m=\u001b[39mkwargs,\n\u001b[0;32m    371\u001b[0m )\n",
      "File \u001b[1;32m~\\miniconda3\\envs\\Cit2KG\\lib\\site-packages\\allennlp\\models\\archival.py:235\u001b[0m, in \u001b[0;36mload_archive\u001b[1;34m(archive_file, cuda_device, overrides, weights_file)\u001b[0m\n\u001b[0;32m    231\u001b[0m \u001b[38;5;66;03m# Instantiate model and dataset readers. Use a duplicate of the config, as it will get consumed.\u001b[39;00m\n\u001b[0;32m    232\u001b[0m dataset_reader, validation_dataset_reader \u001b[38;5;241m=\u001b[39m _load_dataset_readers(\n\u001b[0;32m    233\u001b[0m     config\u001b[38;5;241m.\u001b[39mduplicate(), serialization_dir\n\u001b[0;32m    234\u001b[0m )\n\u001b[1;32m--> 235\u001b[0m model \u001b[38;5;241m=\u001b[39m \u001b[43m_load_model\u001b[49m\u001b[43m(\u001b[49m\u001b[43mconfig\u001b[49m\u001b[38;5;241;43m.\u001b[39;49m\u001b[43mduplicate\u001b[49m\u001b[43m(\u001b[49m\u001b[43m)\u001b[49m\u001b[43m,\u001b[49m\u001b[43m \u001b[49m\u001b[43mweights_path\u001b[49m\u001b[43m,\u001b[49m\u001b[43m \u001b[49m\u001b[43mserialization_dir\u001b[49m\u001b[43m,\u001b[49m\u001b[43m \u001b[49m\u001b[43mcuda_device\u001b[49m\u001b[43m)\u001b[49m\n\u001b[0;32m    237\u001b[0m \u001b[38;5;66;03m# Load meta.\u001b[39;00m\n\u001b[0;32m    238\u001b[0m meta_path \u001b[38;5;241m=\u001b[39m os\u001b[38;5;241m.\u001b[39mpath\u001b[38;5;241m.\u001b[39mjoin(serialization_dir, META_NAME)\n",
      "File \u001b[1;32m~\\miniconda3\\envs\\Cit2KG\\lib\\site-packages\\allennlp\\models\\archival.py:279\u001b[0m, in \u001b[0;36m_load_model\u001b[1;34m(config, weights_path, serialization_dir, cuda_device)\u001b[0m\n\u001b[0;32m    278\u001b[0m \u001b[38;5;28;01mdef\u001b[39;00m \u001b[38;5;21m_load_model\u001b[39m(config, weights_path, serialization_dir, cuda_device):\n\u001b[1;32m--> 279\u001b[0m     \u001b[38;5;28;01mreturn\u001b[39;00m \u001b[43mModel\u001b[49m\u001b[38;5;241;43m.\u001b[39;49m\u001b[43mload\u001b[49m\u001b[43m(\u001b[49m\n\u001b[0;32m    280\u001b[0m \u001b[43m        \u001b[49m\u001b[43mconfig\u001b[49m\u001b[43m,\u001b[49m\n\u001b[0;32m    281\u001b[0m \u001b[43m        \u001b[49m\u001b[43mweights_file\u001b[49m\u001b[38;5;241;43m=\u001b[39;49m\u001b[43mweights_path\u001b[49m\u001b[43m,\u001b[49m\n\u001b[0;32m    282\u001b[0m \u001b[43m        \u001b[49m\u001b[43mserialization_dir\u001b[49m\u001b[38;5;241;43m=\u001b[39;49m\u001b[43mserialization_dir\u001b[49m\u001b[43m,\u001b[49m\n\u001b[0;32m    283\u001b[0m \u001b[43m        \u001b[49m\u001b[43mcuda_device\u001b[49m\u001b[38;5;241;43m=\u001b[39;49m\u001b[43mcuda_device\u001b[49m\u001b[43m,\u001b[49m\n\u001b[0;32m    284\u001b[0m \u001b[43m    \u001b[49m\u001b[43m)\u001b[49m\n",
      "File \u001b[1;32m~\\miniconda3\\envs\\Cit2KG\\lib\\site-packages\\allennlp\\models\\model.py:438\u001b[0m, in \u001b[0;36mModel.load\u001b[1;34m(cls, config, serialization_dir, weights_file, cuda_device)\u001b[0m\n\u001b[0;32m    432\u001b[0m \u001b[38;5;28;01mif\u001b[39;00m \u001b[38;5;129;01mnot\u001b[39;00m \u001b[38;5;28misinstance\u001b[39m(model_class, \u001b[38;5;28mtype\u001b[39m):\n\u001b[0;32m    433\u001b[0m     \u001b[38;5;66;03m# If you're using from_archive to specify your model (e.g., for fine tuning), then you\u001b[39;00m\n\u001b[0;32m    434\u001b[0m     \u001b[38;5;66;03m# can't currently override the behavior of _load; we just use the default Model._load.\u001b[39;00m\n\u001b[0;32m    435\u001b[0m     \u001b[38;5;66;03m# If we really need to change this, we would need to implement a recursive\u001b[39;00m\n\u001b[0;32m    436\u001b[0m     \u001b[38;5;66;03m# get_model_class method, that recurses whenever it finds a from_archive model type.\u001b[39;00m\n\u001b[0;32m    437\u001b[0m     model_class \u001b[38;5;241m=\u001b[39m Model\n\u001b[1;32m--> 438\u001b[0m \u001b[38;5;28;01mreturn\u001b[39;00m \u001b[43mmodel_class\u001b[49m\u001b[38;5;241;43m.\u001b[39;49m\u001b[43m_load\u001b[49m\u001b[43m(\u001b[49m\u001b[43mconfig\u001b[49m\u001b[43m,\u001b[49m\u001b[43m \u001b[49m\u001b[43mserialization_dir\u001b[49m\u001b[43m,\u001b[49m\u001b[43m \u001b[49m\u001b[43mweights_file\u001b[49m\u001b[43m,\u001b[49m\u001b[43m \u001b[49m\u001b[43mcuda_device\u001b[49m\u001b[43m)\u001b[49m\n",
      "File \u001b[1;32m~\\miniconda3\\envs\\Cit2KG\\lib\\site-packages\\allennlp\\models\\model.py:380\u001b[0m, in \u001b[0;36mModel._load\u001b[1;34m(cls, config, serialization_dir, weights_file, cuda_device)\u001b[0m\n\u001b[0;32m    377\u001b[0m filter_out_authorized_missing_keys(model)\n\u001b[0;32m    379\u001b[0m \u001b[38;5;28;01mif\u001b[39;00m unexpected_keys \u001b[38;5;129;01mor\u001b[39;00m missing_keys:\n\u001b[1;32m--> 380\u001b[0m     \u001b[38;5;28;01mraise\u001b[39;00m \u001b[38;5;167;01mRuntimeError\u001b[39;00m(\n\u001b[0;32m    381\u001b[0m         \u001b[38;5;124mf\u001b[39m\u001b[38;5;124m\"\u001b[39m\u001b[38;5;124mError loading state dict for \u001b[39m\u001b[38;5;132;01m{\u001b[39;00mmodel\u001b[38;5;241m.\u001b[39m\u001b[38;5;18m__class__\u001b[39m\u001b[38;5;241m.\u001b[39m\u001b[38;5;18m__name__\u001b[39m\u001b[38;5;132;01m}\u001b[39;00m\u001b[38;5;130;01m\\n\u001b[39;00m\u001b[38;5;130;01m\\t\u001b[39;00m\u001b[38;5;124m\"\u001b[39m\n\u001b[0;32m    382\u001b[0m         \u001b[38;5;124mf\u001b[39m\u001b[38;5;124m\"\u001b[39m\u001b[38;5;124mMissing keys: \u001b[39m\u001b[38;5;132;01m{\u001b[39;00mmissing_keys\u001b[38;5;132;01m}\u001b[39;00m\u001b[38;5;130;01m\\n\u001b[39;00m\u001b[38;5;130;01m\\t\u001b[39;00m\u001b[38;5;124m\"\u001b[39m\n\u001b[0;32m    383\u001b[0m         \u001b[38;5;124mf\u001b[39m\u001b[38;5;124m\"\u001b[39m\u001b[38;5;124mUnexpected keys: \u001b[39m\u001b[38;5;132;01m{\u001b[39;00munexpected_keys\u001b[38;5;132;01m}\u001b[39;00m\u001b[38;5;124m\"\u001b[39m\n\u001b[0;32m    384\u001b[0m     )\n\u001b[0;32m    386\u001b[0m \u001b[38;5;28;01mreturn\u001b[39;00m model\n",
      "\u001b[1;31mRuntimeError\u001b[0m: Error loading state dict for Bart\n\tMissing keys: ['bart.lm_head.weight']\n\tUnexpected keys: []"
     ]
    }
   ],
   "source": [
    "from allennlp_models import pretrained\n",
    "\n",
    "pretrained.load_predictor(\"generation-bart\")\n"
   ]
  }
 ],
 "metadata": {
  "kernelspec": {
   "display_name": "Python 3 (ipykernel)",
   "language": "python",
   "name": "python3"
  },
  "language_info": {
   "codemirror_mode": {
    "name": "ipython",
    "version": 3
   },
   "file_extension": ".py",
   "mimetype": "text/x-python",
   "name": "python",
   "nbconvert_exporter": "python",
   "pygments_lexer": "ipython3",
   "version": "3.10.12"
  }
 },
 "nbformat": 4,
 "nbformat_minor": 5
}
