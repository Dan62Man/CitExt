{
 "cells": [
  {
   "cell_type": "markdown",
   "metadata": {},
   "source": [
    "The installations below are required in order to make allennlp work with the en_core_sci_sm model"
   ]
  },
  {
   "cell_type": "code",
   "execution_count": null,
   "metadata": {},
   "outputs": [],
   "source": [
    "#!sudo apt-get install python3.7\n",
    "!pip install https://s3-us-west-2.amazonaws.com/ai2-s2-scispacy/releases/v0.5.1/en_core_sci_sm-0.5.1.tar.gz\n",
    "!pip install torch torchvision torchaudio\n",
    "!pip install allennlp\n",
    "!pip install allennlp_models\n",
    "!pip install overrides"
   ]
  },
  {
   "cell_type": "markdown",
   "metadata": {},
   "source": [
    "In order to make the text files work with allennlp, they need to be formatted by `format_new_dataset.py`."
   ]
  },
  {
   "cell_type": "markdown",
   "metadata": {},
   "source": [
    "I forked the code and modified slightly in order to make it work"
   ]
  },
  {
   "cell_type": "code",
   "execution_count": null,
   "metadata": {},
   "outputs": [],
   "source": [
    "!git clone https://github.com/Dan62Man/dygiepp-dan.git"
   ]
  },
  {
   "cell_type": "markdown",
   "metadata": {},
   "source": [
    "Further installing of the requirements.txt content are required as per dygiepp"
   ]
  },
  {
   "cell_type": "code",
   "execution_count": null,
   "metadata": {},
   "outputs": [],
   "source": [
    "%cd dygiepp\n",
    "\n",
    "!pip install -r requirements.txt"
   ]
  },
  {
   "cell_type": "code",
   "execution_count": null,
   "metadata": {},
   "outputs": [],
   "source": [
    "!allennlp predict pretrained/scierc.tar.gz \\\n",
    "    citation_data.json \\\n",
    "    --predictor dygie \\\n",
    "    --include-package dygie \\\n",
    "    --use-dataset-reader \\\n",
    "    --output-file predictions/scierc-test.jsonl \\\n",
    "    --cuda-device -1 \\\n",
    "    --silent"
   ]
  }
 ],
 "metadata": {
  "language_info": {
   "name": "python"
  },
  "orig_nbformat": 4
 },
 "nbformat": 4,
 "nbformat_minor": 2
}
